{
 "cells": [
  {
   "cell_type": "markdown",
   "metadata": {},
   "source": [
    "# Number features\n",
    "\n",
    "This document contains features to:\n",
    "- check if a tweet contains a digit (1/0)\n",
    "- find the amount of numerical characters in a tweet (int)\n",
    "- returns if a tweet contains a '%' sign or the word 'percentage' (1/0)\n"
   ]
  },
  {
   "cell_type": "markdown",
   "metadata": {},
   "source": [
    "## Import packages"
   ]
  },
  {
   "cell_type": "code",
   "execution_count": 1,
   "metadata": {},
   "outputs": [],
   "source": [
    "import pandas as pd\n",
    "import numpy as np"
   ]
  },
  {
   "cell_type": "markdown",
   "metadata": {},
   "source": [
    "## Functions"
   ]
  },
  {
   "cell_type": "code",
   "execution_count": 2,
   "metadata": {},
   "outputs": [],
   "source": [
    "def check_for_numbers(tweet):\n",
    "    #set default to 0\n",
    "    contains_digit = 0\n",
    "\n",
    "    #loop through words\n",
    "    for w in tweet.split():\n",
    "        #if the word is a mention or a link we don't count them\n",
    "        if '@' in w or 'http' in w:\n",
    "            pass\n",
    "        else:\n",
    "            #loop through characters\n",
    "            for character in w:\n",
    "                if character.isdigit():\n",
    "                    #there is a digit\n",
    "                    contains_digit = 1\n",
    "                else: \n",
    "                    pass\n",
    "    \n",
    "    return contains_digit\n",
    "\n",
    "def amount_of_numbers(tweet):\n",
    "    #set default to 0\n",
    "    digits = 0\n",
    "\n",
    "    #loop through words\n",
    "    for w in tweet.split():\n",
    "        #if the word is a mention or a link we don't count them\n",
    "        if '@' in w or 'http' in w:\n",
    "            pass\n",
    "        else:\n",
    "            #loop through characters\n",
    "            for character in w:\n",
    "                if character.isdigit():\n",
    "                    #there is a digit\n",
    "                    digits += 1\n",
    "                else: \n",
    "                    pass\n",
    "    \n",
    "    return digits\n",
    "\n",
    "def percentage_use(tweet):\n",
    "    #if percentage sign or word is in tweet than it's true (1) other is false (0)\n",
    "    if '%' in tweet:\n",
    "        return 1\n",
    "    elif 'percentage' in tweet:\n",
    "        return 1\n",
    "    else:\n",
    "        return 0"
   ]
  },
  {
   "cell_type": "markdown",
   "metadata": {},
   "source": [
    "## Import DataFrame"
   ]
  },
  {
   "cell_type": "code",
   "execution_count": 3,
   "metadata": {},
   "outputs": [
    {
     "data": {
      "text/html": [
       "<div>\n",
       "<style scoped>\n",
       "    .dataframe tbody tr th:only-of-type {\n",
       "        vertical-align: middle;\n",
       "    }\n",
       "\n",
       "    .dataframe tbody tr th {\n",
       "        vertical-align: top;\n",
       "    }\n",
       "\n",
       "    .dataframe thead th {\n",
       "        text-align: right;\n",
       "    }\n",
       "</style>\n",
       "<table border=\"1\" class=\"dataframe\">\n",
       "  <thead>\n",
       "    <tr style=\"text-align: right;\">\n",
       "      <th></th>\n",
       "      <th>text</th>\n",
       "      <th>label</th>\n",
       "    </tr>\n",
       "    <tr>\n",
       "      <th>tweet_id</th>\n",
       "      <th></th>\n",
       "      <th></th>\n",
       "    </tr>\n",
       "  </thead>\n",
       "  <tbody>\n",
       "    <tr>\n",
       "      <th>1161040537207463936</th>\n",
       "      <td>'RT @SenJeffMerkley: The Endangered Species Ac...</td>\n",
       "      <td>1</td>\n",
       "    </tr>\n",
       "    <tr>\n",
       "      <th>1176360756239118342</th>\n",
       "      <td>'RT @LindseyGrahamSC: Interesting concept -- i...</td>\n",
       "      <td>1</td>\n",
       "    </tr>\n",
       "    <tr>\n",
       "      <th>1099036648573145088</th>\n",
       "      <td>'RT @RealJamesWoods: #BuildTheWall #DeportThem...</td>\n",
       "      <td>0</td>\n",
       "    </tr>\n",
       "    <tr>\n",
       "      <th>1092915693203480577</th>\n",
       "      <td>'RT @PatriotJackiB: Why would the MEXICAN GOV’...</td>\n",
       "      <td>0</td>\n",
       "    </tr>\n",
       "    <tr>\n",
       "      <th>1149038450668187654</th>\n",
       "      <td>'RT @TheOnion: Sweden Announces Plan To Get 10...</td>\n",
       "      <td>0</td>\n",
       "    </tr>\n",
       "  </tbody>\n",
       "</table>\n",
       "</div>"
      ],
      "text/plain": [
       "                                                                  text  label\n",
       "tweet_id                                                                     \n",
       "1161040537207463936  'RT @SenJeffMerkley: The Endangered Species Ac...      1\n",
       "1176360756239118342  'RT @LindseyGrahamSC: Interesting concept -- i...      1\n",
       "1099036648573145088  'RT @RealJamesWoods: #BuildTheWall #DeportThem...      0\n",
       "1092915693203480577  'RT @PatriotJackiB: Why would the MEXICAN GOV’...      0\n",
       "1149038450668187654  'RT @TheOnion: Sweden Announces Plan To Get 10...      0"
      ]
     },
     "execution_count": 3,
     "metadata": {},
     "output_type": "execute_result"
    }
   ],
   "source": [
    "#DataFrame\n",
    "df = pd.read_csv('tweets_labeled.csv', index_col=0)\n",
    "df.head()"
   ]
  },
  {
   "cell_type": "markdown",
   "metadata": {},
   "source": [
    "## Apply functions"
   ]
  },
  {
   "cell_type": "code",
   "execution_count": 4,
   "metadata": {},
   "outputs": [
    {
     "data": {
      "text/html": [
       "<div>\n",
       "<style scoped>\n",
       "    .dataframe tbody tr th:only-of-type {\n",
       "        vertical-align: middle;\n",
       "    }\n",
       "\n",
       "    .dataframe tbody tr th {\n",
       "        vertical-align: top;\n",
       "    }\n",
       "\n",
       "    .dataframe thead th {\n",
       "        text-align: right;\n",
       "    }\n",
       "</style>\n",
       "<table border=\"1\" class=\"dataframe\">\n",
       "  <thead>\n",
       "    <tr style=\"text-align: right;\">\n",
       "      <th></th>\n",
       "      <th>text</th>\n",
       "      <th>label</th>\n",
       "      <th>check_for_numbers</th>\n",
       "      <th>amount_of_numbers</th>\n",
       "      <th>percentage_use</th>\n",
       "    </tr>\n",
       "    <tr>\n",
       "      <th>tweet_id</th>\n",
       "      <th></th>\n",
       "      <th></th>\n",
       "      <th></th>\n",
       "      <th></th>\n",
       "      <th></th>\n",
       "    </tr>\n",
       "  </thead>\n",
       "  <tbody>\n",
       "    <tr>\n",
       "      <th>1161040537207463936</th>\n",
       "      <td>'RT @SenJeffMerkley: The Endangered Species Ac...</td>\n",
       "      <td>1</td>\n",
       "      <td>0</td>\n",
       "      <td>0</td>\n",
       "      <td>0</td>\n",
       "    </tr>\n",
       "    <tr>\n",
       "      <th>1176360756239118342</th>\n",
       "      <td>'RT @LindseyGrahamSC: Interesting concept -- i...</td>\n",
       "      <td>1</td>\n",
       "      <td>0</td>\n",
       "      <td>0</td>\n",
       "      <td>0</td>\n",
       "    </tr>\n",
       "    <tr>\n",
       "      <th>1099036648573145088</th>\n",
       "      <td>'RT @RealJamesWoods: #BuildTheWall #DeportThem...</td>\n",
       "      <td>0</td>\n",
       "      <td>0</td>\n",
       "      <td>0</td>\n",
       "      <td>0</td>\n",
       "    </tr>\n",
       "    <tr>\n",
       "      <th>1092915693203480577</th>\n",
       "      <td>'RT @PatriotJackiB: Why would the MEXICAN GOV’...</td>\n",
       "      <td>0</td>\n",
       "      <td>0</td>\n",
       "      <td>0</td>\n",
       "      <td>0</td>\n",
       "    </tr>\n",
       "    <tr>\n",
       "      <th>1149038450668187654</th>\n",
       "      <td>'RT @TheOnion: Sweden Announces Plan To Get 10...</td>\n",
       "      <td>0</td>\n",
       "      <td>1</td>\n",
       "      <td>7</td>\n",
       "      <td>1</td>\n",
       "    </tr>\n",
       "  </tbody>\n",
       "</table>\n",
       "</div>"
      ],
      "text/plain": [
       "                                                                  text  label  \\\n",
       "tweet_id                                                                        \n",
       "1161040537207463936  'RT @SenJeffMerkley: The Endangered Species Ac...      1   \n",
       "1176360756239118342  'RT @LindseyGrahamSC: Interesting concept -- i...      1   \n",
       "1099036648573145088  'RT @RealJamesWoods: #BuildTheWall #DeportThem...      0   \n",
       "1092915693203480577  'RT @PatriotJackiB: Why would the MEXICAN GOV’...      0   \n",
       "1149038450668187654  'RT @TheOnion: Sweden Announces Plan To Get 10...      0   \n",
       "\n",
       "                     check_for_numbers  amount_of_numbers  percentage_use  \n",
       "tweet_id                                                                   \n",
       "1161040537207463936                  0                  0               0  \n",
       "1176360756239118342                  0                  0               0  \n",
       "1099036648573145088                  0                  0               0  \n",
       "1092915693203480577                  0                  0               0  \n",
       "1149038450668187654                  1                  7               1  "
      ]
     },
     "execution_count": 4,
     "metadata": {},
     "output_type": "execute_result"
    }
   ],
   "source": [
    "df['check_for_numbers'] = df['text'].apply(check_for_numbers)\n",
    "df['amount_of_numbers'] = df['text'].apply(amount_of_numbers)\n",
    "df['percentage_use'] = df['text'].apply(percentage_use)\n",
    "df.head()"
   ]
  },
  {
   "cell_type": "markdown",
   "metadata": {},
   "source": [
    "## Check out correlations"
   ]
  },
  {
   "cell_type": "code",
   "execution_count": 5,
   "metadata": {},
   "outputs": [
    {
     "data": {
      "text/html": [
       "<div>\n",
       "<style scoped>\n",
       "    .dataframe tbody tr th:only-of-type {\n",
       "        vertical-align: middle;\n",
       "    }\n",
       "\n",
       "    .dataframe tbody tr th {\n",
       "        vertical-align: top;\n",
       "    }\n",
       "\n",
       "    .dataframe thead th {\n",
       "        text-align: right;\n",
       "    }\n",
       "</style>\n",
       "<table border=\"1\" class=\"dataframe\">\n",
       "  <thead>\n",
       "    <tr style=\"text-align: right;\">\n",
       "      <th></th>\n",
       "      <th>label</th>\n",
       "      <th>check_for_numbers</th>\n",
       "      <th>amount_of_numbers</th>\n",
       "      <th>percentage_use</th>\n",
       "    </tr>\n",
       "  </thead>\n",
       "  <tbody>\n",
       "    <tr>\n",
       "      <th>label</th>\n",
       "      <td>1.000000</td>\n",
       "      <td>0.004203</td>\n",
       "      <td>0.012547</td>\n",
       "      <td>0.037559</td>\n",
       "    </tr>\n",
       "    <tr>\n",
       "      <th>check_for_numbers</th>\n",
       "      <td>0.004203</td>\n",
       "      <td>1.000000</td>\n",
       "      <td>0.809928</td>\n",
       "      <td>0.252016</td>\n",
       "    </tr>\n",
       "    <tr>\n",
       "      <th>amount_of_numbers</th>\n",
       "      <td>0.012547</td>\n",
       "      <td>0.809928</td>\n",
       "      <td>1.000000</td>\n",
       "      <td>0.334511</td>\n",
       "    </tr>\n",
       "    <tr>\n",
       "      <th>percentage_use</th>\n",
       "      <td>0.037559</td>\n",
       "      <td>0.252016</td>\n",
       "      <td>0.334511</td>\n",
       "      <td>1.000000</td>\n",
       "    </tr>\n",
       "  </tbody>\n",
       "</table>\n",
       "</div>"
      ],
      "text/plain": [
       "                      label  check_for_numbers  amount_of_numbers  \\\n",
       "label              1.000000           0.004203           0.012547   \n",
       "check_for_numbers  0.004203           1.000000           0.809928   \n",
       "amount_of_numbers  0.012547           0.809928           1.000000   \n",
       "percentage_use     0.037559           0.252016           0.334511   \n",
       "\n",
       "                   percentage_use  \n",
       "label                    0.037559  \n",
       "check_for_numbers        0.252016  \n",
       "amount_of_numbers        0.334511  \n",
       "percentage_use           1.000000  "
      ]
     },
     "execution_count": 5,
     "metadata": {},
     "output_type": "execute_result"
    }
   ],
   "source": [
    "corr = df.corr()\n",
    "corr"
   ]
  }
 ],
 "metadata": {
  "kernelspec": {
   "display_name": "Python 3",
   "language": "python",
   "name": "python3"
  },
  "language_info": {
   "codemirror_mode": {
    "name": "ipython",
    "version": 3
   },
   "file_extension": ".py",
   "mimetype": "text/x-python",
   "name": "python",
   "nbconvert_exporter": "python",
   "pygments_lexer": "ipython3",
   "version": "3.8.3"
  }
 },
 "nbformat": 4,
 "nbformat_minor": 4
}
